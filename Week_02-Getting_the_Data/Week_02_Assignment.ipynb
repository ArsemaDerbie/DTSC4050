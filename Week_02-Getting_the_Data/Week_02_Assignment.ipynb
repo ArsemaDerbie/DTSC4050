{
  "cells": [
    {
      "cell_type": "markdown",
      "metadata": {
        "id": "view-in-github",
        "colab_type": "text"
      },
      "source": [
        "<a href=\"https://colab.research.google.com/github/ArsemaDerbie/DTSC4050/blob/main/Week_02-Getting_the_Data/Week_02_Assignment.ipynb\" target=\"_parent\"><img src=\"https://colab.research.google.com/assets/colab-badge.svg\" alt=\"Open In Colab\"/></a>"
      ]
    },
    {
      "cell_type": "markdown",
      "id": "41c9a5d1",
      "metadata": {
        "id": "41c9a5d1"
      },
      "source": [
        "# Week 02: Assignment\n",
        "\n",
        "by Your Name\n",
        "\n",
        "## Getting Started\n",
        "\n",
        "* Colab - get notebook from gitmystuff DTSC4050 repository\n",
        "* Save a Copy in Drive\n",
        "* Remove Copy of\n",
        "* Edit your name\n",
        "* Clean up Colab Notebooks folder\n",
        "* Submit shared link\n",
        "* Finish the assignment\n",
        "\n",
        "## Assignment\n",
        "\n",
        "* Import three different datasets, one from sklearn.datasets, one from seaborn.load_dataset, and one from the UCI Machine Learning Repository\n",
        "* Create a dataframe for each dataset if necessary\n",
        "* Print the shape\n",
        "* Print the information about the dataset using info()\n",
        "* Show the first five rows of each dataset"
      ]
    },
    {
      "cell_type": "code",
      "execution_count": null,
      "id": "6b8e5175",
      "metadata": {
        "id": "6b8e5175"
      },
      "outputs": [],
      "source": [
        "# sklearn example\n",
        "from sklearn.datasets import fetch_california_housing\n",
        "housing = fetch_california_housing()\n",
        "housing"
      ]
    },
    {
      "cell_type": "code",
      "source": [
        "housing.keys()"
      ],
      "metadata": {
        "id": "EzNMK3jaeMYl"
      },
      "id": "EzNMK3jaeMYl",
      "execution_count": null,
      "outputs": []
    },
    {
      "cell_type": "code",
      "source": [
        "print(housing.DESCR)"
      ],
      "metadata": {
        "id": "o0XbERuveT_x"
      },
      "id": "o0XbERuveT_x",
      "execution_count": null,
      "outputs": []
    },
    {
      "cell_type": "code",
      "source": [
        "print(housing.feature_names)\n",
        "print(housing.target_names)"
      ],
      "metadata": {
        "id": "HYitoBJqeeug"
      },
      "id": "HYitoBJqeeug",
      "execution_count": null,
      "outputs": []
    },
    {
      "cell_type": "code",
      "source": [
        "import pandas as pd\n",
        "\n",
        "df = pd.DataFrame(housing.data, columns=housing.feature_names)\n",
        "df['MedHouseVal'] = housing.target\n",
        "print(df.shape)\n",
        "print(df.info())\n",
        "df.head()"
      ],
      "metadata": {
        "id": "UbqDjvB2eirb"
      },
      "id": "UbqDjvB2eirb",
      "execution_count": null,
      "outputs": []
    },
    {
      "cell_type": "code",
      "source": [
        "import pandas as pd\n",
        "from sklearn.datasets import fetch_california_housing\n",
        "\n",
        "X, y = fetch_california_housing(return_X_y=True)\n",
        "# print(X[0:2])\n",
        "housing = fetch_california_housing()\n",
        "housing_df = pd.DataFrame(X, columns=housing.feature_names)\n",
        "housing_df['MedHouseVal'] = housing.target\n",
        "print(housing_df.shape)\n",
        "print(housing_df.info())\n",
        "housing_df.head()"
      ],
      "metadata": {
        "id": "YrE4RWBVemVA"
      },
      "id": "YrE4RWBVemVA",
      "execution_count": null,
      "outputs": []
    },
    {
      "cell_type": "code",
      "source": [
        "# seaborn example\n",
        "import seaborn as sns\n",
        "\n",
        "sns.get_dataset_names()"
      ],
      "metadata": {
        "id": "_KyygCuaexl-"
      },
      "id": "_KyygCuaexl-",
      "execution_count": null,
      "outputs": []
    },
    {
      "cell_type": "code",
      "execution_count": null,
      "id": "eb00325c",
      "metadata": {
        "id": "eb00325c"
      },
      "outputs": [],
      "source": [
        "mpg = sns.load_dataset('mpg')\n",
        "print(mpg.shape)\n",
        "print(mpg.info())\n",
        "mpg.head()"
      ]
    },
    {
      "cell_type": "code",
      "source": [
        "mpg['origin'].unique()"
      ],
      "metadata": {
        "id": "457oz2une-5n"
      },
      "id": "457oz2une-5n",
      "execution_count": null,
      "outputs": []
    },
    {
      "cell_type": "code",
      "source": [
        "# uci machine learning repository example\n",
        "!pip install ucimlrepo"
      ],
      "metadata": {
        "id": "18iXDwG_fHSP"
      },
      "id": "18iXDwG_fHSP",
      "execution_count": null,
      "outputs": []
    },
    {
      "cell_type": "code",
      "execution_count": null,
      "id": "a05c7d33",
      "metadata": {
        "id": "a05c7d33"
      },
      "outputs": [],
      "source": [
        "from ucimlrepo import fetch_ucirepo\n",
        "iris = fetch_ucirepo(id=53)\n",
        "X = iris.data.features\n",
        "y = iris.data.targets\n",
        "print(iris.metadata)\n",
        "print(iris.variables)"
      ]
    },
    {
      "cell_type": "code",
      "source": [
        "import pandas as pd\n",
        "\n",
        "df = pd.read_csv(iris.metadata.data_url)\n",
        "print(df.shape)\n",
        "print(df.info())\n",
        "df.head()"
      ],
      "metadata": {
        "id": "4jdjsCBkfQGA"
      },
      "id": "4jdjsCBkfQGA",
      "execution_count": null,
      "outputs": []
    },
    {
      "cell_type": "code",
      "source": [
        "from google.colab import drive\n",
        "drive.mount('/content/drive')"
      ],
      "metadata": {
        "id": "DvIkVcLyfTrk"
      },
      "id": "DvIkVcLyfTrk",
      "execution_count": null,
      "outputs": []
    }
  ],
  "metadata": {
    "kernelspec": {
      "display_name": "Python 3 (ipykernel)",
      "language": "python",
      "name": "python3"
    },
    "language_info": {
      "codemirror_mode": {
        "name": "ipython",
        "version": 3
      },
      "file_extension": ".py",
      "mimetype": "text/x-python",
      "name": "python",
      "nbconvert_exporter": "python",
      "pygments_lexer": "ipython3",
      "version": "3.9.7"
    },
    "colab": {
      "provenance": [],
      "include_colab_link": true
    }
  },
  "nbformat": 4,
  "nbformat_minor": 5
}